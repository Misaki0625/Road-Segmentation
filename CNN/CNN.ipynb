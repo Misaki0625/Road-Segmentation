{
 "cells": [
  {
   "cell_type": "markdown",
   "metadata": {
    "id": "cpk4_TdwycYN"
   },
   "source": [
    "#Convolutional Neural Network"
   ]
  },
  {
   "cell_type": "markdown",
   "metadata": {
    "id": "ZmwxbHEFycYO"
   },
   "source": [
    "# import library and helpers"
   ]
  },
  {
   "cell_type": "code",
   "execution_count": 23,
   "metadata": {
    "id": "n1gHg_ufycYO"
   },
   "outputs": [],
   "source": [
    "%matplotlib inline\n",
    "import matplotlib.image as mpimg\n",
    "import numpy as np\n",
    "import matplotlib.pyplot as plt\n",
    "import os,sys\n",
    "import cv2\n",
    "from PIL import Image\n",
    "import scipy\n",
    "from keras.models import Sequential\n",
    "from keras.layers import Dense, Dropout, Activation, Flatten\n",
    "from keras.layers import Convolution2D, MaxPooling2D, ZeroPadding2D, AveragePooling2D, LSTM\n",
    "from keras.optimizers import Adam\n",
    "from keras.preprocessing.image import ImageDataGenerator\n",
    "from keras.layers.core import Reshape"
   ]
  },
  {
   "cell_type": "markdown",
   "metadata": {
    "id": "G8DIVWzLvKBc"
   },
   "source": [
    "## import helpers"
   ]
  },
  {
   "cell_type": "code",
   "execution_count": 24,
   "metadata": {
    "id": "zB0JUkK6vPkr"
   },
   "outputs": [],
   "source": [
    "'''\r\n",
    "Load imags using mping function and return all data list\r\n",
    "'''\r\n",
    "\r\n",
    "def load_data_set(path, imag_indices, test=False):\r\n",
    "    imgs = []\r\n",
    "    print ('Loading {} satlite images...'.format(len(imag_indices)), end='') # for checking\r\n",
    "    \r\n",
    "    if not test:  #for training feature and groundtruth dataset\r\n",
    "        for i in imag_indices:\r\n",
    "            imag_name = path + 'satImage_{:03d}.png'.format(i) # the imag name format\r\n",
    "            if os.path.isfile(imag_name):\r\n",
    "                img = mpimg.imread(imag_name)   # read all imags in the file\r\n",
    "                imgs.append(img)\r\n",
    "            else:\r\n",
    "                print('imag {} does not exists'.format(imag_name)) # for checking wrongly path\r\n",
    "    \r\n",
    "    else:  # for test dataset\r\n",
    "        for i in imag_indices:\r\n",
    "            imag_path = path + 'test_{:01d}/'.format(i)\r\n",
    "            imag_name = imag_path + 'test_{:01d}.png'.format(i)\r\n",
    "            if os.path.isfile(imag_name):\r\n",
    "                imag = mpimg.imread(imag_name)\r\n",
    "                imgs.append(imag)\r\n",
    "            else:\r\n",
    "                print('imag {} does not exists'.format(imag_name))\r\n",
    "    return imgs\r\n",
    "\r\n",
    "# get patch set\r\n",
    "def patch_set_3d(im, w, h, pad):\r\n",
    "    patch_set_3d = []\r\n",
    "    imgwidth = im.shape[0] - pad\r\n",
    "    imgheight = im.shape[1] - pad\r\n",
    "\r\n",
    "    for i in range(pad,imgheight,h): # loop across height in steps equal to your height patch size\r\n",
    "        for j in range(pad,imgwidth,w): # loop across height in steps equal to your hweight patch size\r\n",
    "            im_patch_3d = im[j-pad:j+w+pad, i-pad:i+h+pad, :]\r\n",
    "            patch_set_3d.append(im_patch_3d)\r\n",
    "    return patch_set_3d\r\n",
    "\r\n",
    "\r\n",
    "def patch_set_2d(im, w, h):\r\n",
    "    patch_set_2d = []\r\n",
    "    width = im.shape[0] \r\n",
    "    height = im.shape[1] \r\n",
    "    for i in range(0, height, h):\r\n",
    "        for j in range(0,width,w):\r\n",
    "            im_patch_2d = im[j:j+w, i:i+h].flatten() # for background 2d picture\r\n",
    "            patch_set_2d.append(im_patch_2d)\r\n",
    "    return patch_set_2d\r\n",
    "\r\n",
    "\r\n",
    "def array_to_patches(array, patch_size):\r\n",
    "    patches = []\r\n",
    "    for i in range(len(array)):\r\n",
    "        patches.append(array[i].reshape((patch_size,patch_size)))\r\n",
    "    return patches\r\n",
    "\r\n",
    "\r\n",
    "def label_to_img(width, height, w, h, labels): #produce a binary pic from label\r\n",
    "    im = np.ones([width, height])\r\n",
    "    idx = 0\r\n",
    "    for i in range(0,height,h):\r\n",
    "        for j in range(0,width,w):\r\n",
    "            im[j:j+w, i:i+h] = labels[idx] \r\n",
    "            idx = idx + 1\r\n",
    "    return im\r\n",
    "\r\n",
    "from keras.preprocessing.image import img_to_array\r\n",
    "from keras.preprocessing.image import save_img\r\n",
    "    \r\n",
    "def get_prediction_pic(X): #get predicition from saved weight\r\n",
    "    prediction = cnn.predict(X, batch_size=32)\r\n",
    "    patches_test = array_to_patches(np.where(prediction > 0.5, 1, 0), patch_size)\r\n",
    "    array_test = np.asarray(patches_test)\r\n",
    "    predicted_im = label_to_img(608, 608, patch_size, patch_size, array_test)\r\n",
    "    img_array = img_to_array(predicted_im)\r\n",
    "    return img_array\r\n"
   ]
  },
  {
   "cell_type": "markdown",
   "metadata": {
    "id": "eRk8dkbb9PFK"
   },
   "source": [
    "## from helpers \"mask to submission\""
   ]
  },
  {
   "cell_type": "code",
   "execution_count": 26,
   "metadata": {
    "colab": {
     "base_uri": "https://localhost:8080/"
    },
    "id": "9k8fdn_hzG62",
    "outputId": "0cd46fcf-87ab-4118-e7f3-8956d9e4d601"
   },
   "outputs": [
    {
     "name": "stdout",
     "output_type": "stream",
     "text": [
      "/content/drive/MyDrive/Colab Notebooks/road_segmentation-master/data/training/groundtruth/satImage_001.png\n",
      "/content/drive/MyDrive/Colab Notebooks/road_segmentation-master/data/training/groundtruth/satImage_002.png\n",
      "/content/drive/MyDrive/Colab Notebooks/road_segmentation-master/data/training/groundtruth/satImage_003.png\n",
      "/content/drive/MyDrive/Colab Notebooks/road_segmentation-master/data/training/groundtruth/satImage_004.png\n",
      "/content/drive/MyDrive/Colab Notebooks/road_segmentation-master/data/training/groundtruth/satImage_005.png\n",
      "/content/drive/MyDrive/Colab Notebooks/road_segmentation-master/data/training/groundtruth/satImage_006.png\n",
      "/content/drive/MyDrive/Colab Notebooks/road_segmentation-master/data/training/groundtruth/satImage_007.png\n",
      "/content/drive/MyDrive/Colab Notebooks/road_segmentation-master/data/training/groundtruth/satImage_008.png\n",
      "/content/drive/MyDrive/Colab Notebooks/road_segmentation-master/data/training/groundtruth/satImage_009.png\n",
      "/content/drive/MyDrive/Colab Notebooks/road_segmentation-master/data/training/groundtruth/satImage_010.png\n",
      "/content/drive/MyDrive/Colab Notebooks/road_segmentation-master/data/training/groundtruth/satImage_011.png\n",
      "/content/drive/MyDrive/Colab Notebooks/road_segmentation-master/data/training/groundtruth/satImage_012.png\n",
      "/content/drive/MyDrive/Colab Notebooks/road_segmentation-master/data/training/groundtruth/satImage_013.png\n",
      "/content/drive/MyDrive/Colab Notebooks/road_segmentation-master/data/training/groundtruth/satImage_014.png\n",
      "/content/drive/MyDrive/Colab Notebooks/road_segmentation-master/data/training/groundtruth/satImage_015.png\n",
      "/content/drive/MyDrive/Colab Notebooks/road_segmentation-master/data/training/groundtruth/satImage_016.png\n",
      "/content/drive/MyDrive/Colab Notebooks/road_segmentation-master/data/training/groundtruth/satImage_017.png\n",
      "/content/drive/MyDrive/Colab Notebooks/road_segmentation-master/data/training/groundtruth/satImage_018.png\n",
      "/content/drive/MyDrive/Colab Notebooks/road_segmentation-master/data/training/groundtruth/satImage_019.png\n",
      "/content/drive/MyDrive/Colab Notebooks/road_segmentation-master/data/training/groundtruth/satImage_020.png\n",
      "/content/drive/MyDrive/Colab Notebooks/road_segmentation-master/data/training/groundtruth/satImage_021.png\n",
      "/content/drive/MyDrive/Colab Notebooks/road_segmentation-master/data/training/groundtruth/satImage_022.png\n",
      "/content/drive/MyDrive/Colab Notebooks/road_segmentation-master/data/training/groundtruth/satImage_023.png\n",
      "/content/drive/MyDrive/Colab Notebooks/road_segmentation-master/data/training/groundtruth/satImage_024.png\n",
      "/content/drive/MyDrive/Colab Notebooks/road_segmentation-master/data/training/groundtruth/satImage_025.png\n",
      "/content/drive/MyDrive/Colab Notebooks/road_segmentation-master/data/training/groundtruth/satImage_026.png\n",
      "/content/drive/MyDrive/Colab Notebooks/road_segmentation-master/data/training/groundtruth/satImage_027.png\n",
      "/content/drive/MyDrive/Colab Notebooks/road_segmentation-master/data/training/groundtruth/satImage_028.png\n",
      "/content/drive/MyDrive/Colab Notebooks/road_segmentation-master/data/training/groundtruth/satImage_029.png\n",
      "/content/drive/MyDrive/Colab Notebooks/road_segmentation-master/data/training/groundtruth/satImage_030.png\n",
      "/content/drive/MyDrive/Colab Notebooks/road_segmentation-master/data/training/groundtruth/satImage_031.png\n",
      "/content/drive/MyDrive/Colab Notebooks/road_segmentation-master/data/training/groundtruth/satImage_032.png\n",
      "/content/drive/MyDrive/Colab Notebooks/road_segmentation-master/data/training/groundtruth/satImage_033.png\n",
      "/content/drive/MyDrive/Colab Notebooks/road_segmentation-master/data/training/groundtruth/satImage_034.png\n",
      "/content/drive/MyDrive/Colab Notebooks/road_segmentation-master/data/training/groundtruth/satImage_035.png\n",
      "/content/drive/MyDrive/Colab Notebooks/road_segmentation-master/data/training/groundtruth/satImage_036.png\n",
      "/content/drive/MyDrive/Colab Notebooks/road_segmentation-master/data/training/groundtruth/satImage_037.png\n",
      "/content/drive/MyDrive/Colab Notebooks/road_segmentation-master/data/training/groundtruth/satImage_038.png\n",
      "/content/drive/MyDrive/Colab Notebooks/road_segmentation-master/data/training/groundtruth/satImage_039.png\n",
      "/content/drive/MyDrive/Colab Notebooks/road_segmentation-master/data/training/groundtruth/satImage_040.png\n",
      "/content/drive/MyDrive/Colab Notebooks/road_segmentation-master/data/training/groundtruth/satImage_041.png\n",
      "/content/drive/MyDrive/Colab Notebooks/road_segmentation-master/data/training/groundtruth/satImage_042.png\n",
      "/content/drive/MyDrive/Colab Notebooks/road_segmentation-master/data/training/groundtruth/satImage_043.png\n",
      "/content/drive/MyDrive/Colab Notebooks/road_segmentation-master/data/training/groundtruth/satImage_044.png\n",
      "/content/drive/MyDrive/Colab Notebooks/road_segmentation-master/data/training/groundtruth/satImage_045.png\n",
      "/content/drive/MyDrive/Colab Notebooks/road_segmentation-master/data/training/groundtruth/satImage_046.png\n",
      "/content/drive/MyDrive/Colab Notebooks/road_segmentation-master/data/training/groundtruth/satImage_047.png\n",
      "/content/drive/MyDrive/Colab Notebooks/road_segmentation-master/data/training/groundtruth/satImage_048.png\n",
      "/content/drive/MyDrive/Colab Notebooks/road_segmentation-master/data/training/groundtruth/satImage_049.png\n",
      "/content/drive/MyDrive/Colab Notebooks/road_segmentation-master/data/training/groundtruth/satImage_050.png\n"
     ]
    }
   ],
   "source": [
    "#!/usr/bin/env python3\n",
    "\n",
    "import os\n",
    "import numpy as np\n",
    "import matplotlib.image as mpimg\n",
    "import re\n",
    "\n",
    "foreground_threshold = 0.25 \n",
    "\n",
    "# assign a label to a patch\n",
    "def patch_to_label(patch):\n",
    "    df = np.mean(patch)\n",
    "    if df > foreground_threshold:\n",
    "        return 1\n",
    "    else:\n",
    "        return 0\n",
    "\n",
    "def mask_to_submission_strings(image_filename):\n",
    "    \"\"\"Reads a single image and outputs the strings that should go into the submission file\"\"\"\n",
    "    img_number = int(re.search(r\"\\d+\", image_filename).group(0))\n",
    "    im = mpimg.imread(image_filename)\n",
    "    patch_size = 16\n",
    "    for j in range(0, im.shape[1], patch_size):\n",
    "        for i in range(0, im.shape[0], patch_size):\n",
    "            patch = im[i:i + patch_size, j:j + patch_size]\n",
    "            label = patch_to_label(patch)\n",
    "            yield(\"{:03d}_{}_{},{}\".format(img_number, j, i, label))\n",
    "\n",
    "def masks_to_submission(submission_filename, *image_filenames):\n",
    "    \"\"\"Converts images into a submission file\"\"\"\n",
    "    with open(submission_filename, 'w') as f:\n",
    "        f.write('id,prediction\\n')\n",
    "        for fn in image_filenames[0:]:\n",
    "            f.writelines('{}\\n'.format(s) for s in mask_to_submission_strings(fn))\n",
    "\n",
    "\n",
    "if __name__ == '__main__':\n",
    "    submission_filename = 'dummy_submission.csv'\n",
    "    image_filenames = []\n",
    "    for i in range(1, 51):\n",
    "        image_filename = 'training/groundtruth/satImage_' + '%.3d' % i + '.png'\n",
    "        print(image_filename)\n",
    "        image_filenames.append(image_filename)\n",
    "    masks_to_submission(submission_filename, *image_filenames)"
   ]
  },
  {
   "cell_type": "markdown",
   "metadata": {
    "id": "bCncYKQKycYO"
   },
   "source": [
    "# Image loading"
   ]
  },
  {
   "cell_type": "code",
   "execution_count": 27,
   "metadata": {
    "colab": {
     "base_uri": "https://localhost:8080/"
    },
    "id": "RZnY9hvzycYO",
    "outputId": "adaa3275-7e65-4b9f-a3a7-397976b19dc9"
   },
   "outputs": [
    {
     "name": "stdout",
     "output_type": "stream",
     "text": [
      "Loading 100 satlite images...Loading 50 satlite images...Image size = (400, 400, 3)\n",
      "Image size = (408, 408, 3)\n",
      "Image type <class 'numpy.ndarray'>\n"
     ]
    }
   ],
   "source": [
    "'''\n",
    "Load imags using mping function and return all data list\n",
    "'''\n",
    "imag_indices = np.arange(1, 101)\n",
    "test_indices = np.arange(1, 51)\n",
    "\n",
    "imag_indices2 = np.arange(0, 100)\n",
    "test_indices2 = np.arange(0, 50)\n",
    "\n",
    "image_path = 'training/images/'\n",
    "label_path = 'training/groundtruth/'\n",
    "test_path = 'test_set_images/'\n",
    "\n",
    "def load_data_set(path, imag_indices, test=False):\n",
    "    imgs = []\n",
    "    print ('Loading {} satlite images...'.format(len(imag_indices)), end='') # for checking\n",
    "    \n",
    "    if not test:  #for training feature and groundtruth dataset\n",
    "        for i in imag_indices:\n",
    "            imag_name = path + 'satImage_{:03d}.png'.format(i) # the imag name format\n",
    "            if os.path.isfile(imag_name):\n",
    "                img = mpimg.imread(imag_name)   # read all imags in the file\n",
    "                imgs.append(img)\n",
    "            else:\n",
    "                print('imag {} does not exists'.format(imag_name)) # for checking wrongly path\n",
    "    \n",
    "    else:  # for test dataset\n",
    "        for i in imag_indices:\n",
    "            imag_name = path + 'satImage_{:03d}.png'.format(i)\n",
    "            if os.path.isfile(imag_name):\n",
    "                imag = mpimg.imread(imag_name)\n",
    "                imgs.append(imag)\n",
    "            else:\n",
    "                print('imag {} does not exists'.format(imag_name))\n",
    "    return imgs\n",
    "\n",
    "train_images = load_data_set(image_path, imag_indices, test=False)\n",
    "test_images = load_data_set(test_path, test_indices, test=True)\n",
    "label_images = [mpimg.imread(label_path + os.listdir(image_path)[i]) for i in imag_indices2]\n",
    "\n"
   ]
  },
  {
   "cell_type": "markdown",
   "metadata": {
    "id": "f8XNjXFKycYQ"
   },
   "source": [
    "#  Reshape the input data into a format suitable for the convolutional layer"
   ]
  },
  {
   "cell_type": "markdown",
   "metadata": {
    "id": "jMFqGtW1ycYQ"
   },
   "source": [
    "### Extract patches and data from input images"
   ]
  },
  {
   "cell_type": "code",
   "execution_count": 28,
   "metadata": {
    "id": "pjKSI4Y-ycYQ"
   },
   "outputs": [],
   "source": [
    "patch_size = 16 \n",
    "pad = 4\n",
    "images_pad = [np.pad(mpimg.imread(image_path + os.listdir(image_path)[i]), ((pad,pad),(pad,pad),(0,0)), 'constant') for i in imag_indices2]\n",
    "image_patches = [patch_set_3d(images_pad[i], patch_size, patch_size, pad) for i in imag_indices2]\n",
    "label_patches = [patch_set_2d(label_images[i], patch_size, patch_size) for i in imag_indices2]\n",
    "\n",
    "X_train = np.asarray([image_patches[i][j] for i in range(len(image_patches)) for j in range(len(image_patches[i]))])\n",
    "Y_train = np.asarray([label_patches[i][j] for i in range(len(label_patches)) for j in range(len(label_patches[i]))])"
   ]
  },
  {
   "cell_type": "markdown",
   "metadata": {
    "id": "bDbpYq9JycYR"
   },
   "source": [
    "# Neural network model"
   ]
  },
  {
   "cell_type": "markdown",
   "metadata": {
    "id": "fgadsMs3ycYR"
   },
   "source": [
    "#### Build the model using the Sequential.add() function and add layers"
   ]
  },
  {
   "cell_type": "code",
   "execution_count": 29,
   "metadata": {
    "id": "nlvOStKAycYR"
   },
   "outputs": [],
   "source": [
    "cnn = Sequential()\n",
    "cnn.add(Convolution2D(16, (3, 3), activation='relu', padding='same'))\n",
    "cnn.add(Convolution2D(32, (3, 3), activation='relu', padding='same'))\n",
    "cnn.add(MaxPooling2D(pool_size=(2, 2)))\n",
    "cnn.add(Convolution2D(64, (3, 3), activation='relu', padding='same'))\n",
    "cnn.add(MaxPooling2D(pool_size=(2, 2)))\n",
    "cnn.add(Dropout(0.25))\n",
    "cnn.add(Convolution2D(128, (3, 3), activation='relu', padding='same'))\n",
    "cnn.add(Convolution2D(128, (3, 3), activation='relu', padding='same'))\n",
    "cnn.add(Convolution2D(128, (3, 3), activation='relu', padding='same'))\n",
    "cnn.add(MaxPooling2D(pool_size=(2, 2)))\n",
    "cnn.add(Dropout(0.25))\n",
    "cnn.add(Flatten())\n",
    "cnn.add(Dense(256, activation='sigmoid'))"
   ]
  },
  {
   "cell_type": "markdown",
   "metadata": {
    "id": "IS-RDgkFycYR"
   },
   "source": [
    "### Choose an optimizer and the matrics is F1 "
   ]
  },
  {
   "cell_type": "code",
   "execution_count": 30,
   "metadata": {
    "id": "wkP5FnezycYR"
   },
   "outputs": [],
   "source": [
    "from keras import backend as K\n",
    "import keras.optimizers\n",
    "\n",
    "\"\"\"precision (also called positive predictive value) is the fraction of relevant instances among the retrieved instances\n",
    "recall (also known as sensitivity) is the fraction of the total amount of relevant instances that were actually retrieved.\n",
    "\"\"\"\n",
    "def f1(y_true, y_pred):\n",
    "    def recall(y_true, y_pred):\n",
    "        \n",
    "        true_positives = K.sum(K.round(K.clip(y_true * y_pred, 0, 1)))\n",
    "        possible_positives = K.sum(K.round(K.clip(y_true, 0, 1)))\n",
    "        recall = true_positives / (possible_positives + K.epsilon())\n",
    "        return recall\n",
    "\n",
    "    def precision(y_true, y_pred):\n",
    "      \n",
    "        true_positives = K.sum(K.round(K.clip(y_true * y_pred, 0, 1)))\n",
    "        predicted_positives = K.sum(K.round(K.clip(y_pred, 0, 1)))\n",
    "        precision = true_positives / (predicted_positives + K.epsilon())\n",
    "        return precision\n",
    "    precision = precision(y_true, y_pred)\n",
    "    recall = recall(y_true, y_pred)\n",
    "    return 2*((precision*recall)/(precision+recall+K.epsilon()))\n",
    "\n",
    "initial_learning_rate = 0.001\n",
    "lr_schedule = keras.optimizers.schedules.ExponentialDecay(\n",
    "    initial_learning_rate, decay_steps=100000, decay_rate=0.96, staircase=True)\n",
    "\n",
    "cnn.compile(loss='binary_crossentropy',\n",
    "          optimizer=keras.optimizers.Adam(learning_rate=lr_schedule),\n",
    "          metrics=[f1])\n",
    "\n"
   ]
  },
  {
   "cell_type": "markdown",
   "metadata": {
    "id": "wXKFsGHQycYR"
   },
   "source": [
    "### train"
   ]
  },
  {
   "cell_type": "code",
   "execution_count": 31,
   "metadata": {
    "colab": {
     "base_uri": "https://localhost:8080/"
    },
    "id": "JC_5ZM1nycYR",
    "outputId": "e7934f88-fcd0-4589-e942-4fe52195f85c"
   },
   "outputs": [
    {
     "name": "stdout",
     "output_type": "stream",
     "text": [
      "Epoch 1/20\n",
      "1954/1954 [==============================] - 8s 4ms/step - loss: 0.3865 - f1: 0.2076\n",
      "Epoch 2/20\n",
      "1954/1954 [==============================] - 8s 4ms/step - loss: 0.3037 - f1: 0.4990\n",
      "Epoch 3/20\n",
      "1954/1954 [==============================] - 8s 4ms/step - loss: 0.2775 - f1: 0.5716\n",
      "Epoch 4/20\n",
      "1954/1954 [==============================] - 8s 4ms/step - loss: 0.2588 - f1: 0.6184\n",
      "Epoch 5/20\n",
      "1954/1954 [==============================] - 8s 4ms/step - loss: 0.2436 - f1: 0.6574\n",
      "Epoch 6/20\n",
      "1954/1954 [==============================] - 8s 4ms/step - loss: 0.2326 - f1: 0.6810\n",
      "Epoch 7/20\n",
      "1954/1954 [==============================] - 9s 4ms/step - loss: 0.2253 - f1: 0.6968\n",
      "Epoch 8/20\n",
      "1954/1954 [==============================] - 8s 4ms/step - loss: 0.2168 - f1: 0.7121\n",
      "Epoch 9/20\n",
      "1954/1954 [==============================] - 8s 4ms/step - loss: 0.2101 - f1: 0.7256\n",
      "Epoch 10/20\n",
      "1954/1954 [==============================] - 8s 4ms/step - loss: 0.2045 - f1: 0.7374\n",
      "Epoch 11/20\n",
      "1954/1954 [==============================] - 8s 4ms/step - loss: 0.1982 - f1: 0.7490\n",
      "Epoch 12/20\n",
      "1954/1954 [==============================] - 8s 4ms/step - loss: 0.1945 - f1: 0.7577\n",
      "Epoch 13/20\n",
      "1954/1954 [==============================] - 8s 4ms/step - loss: 0.1896 - f1: 0.7671\n",
      "Epoch 14/20\n",
      "1954/1954 [==============================] - 8s 4ms/step - loss: 0.1861 - f1: 0.7737\n",
      "Epoch 15/20\n",
      "1954/1954 [==============================] - 8s 4ms/step - loss: 0.1834 - f1: 0.7784\n",
      "Epoch 16/20\n",
      "1954/1954 [==============================] - 8s 4ms/step - loss: 0.1788 - f1: 0.7870\n",
      "Epoch 17/20\n",
      "1954/1954 [==============================] - 8s 4ms/step - loss: 0.1771 - f1: 0.7898\n",
      "Epoch 18/20\n",
      "1954/1954 [==============================] - 8s 4ms/step - loss: 0.1766 - f1: 0.7907\n",
      "Epoch 19/20\n",
      "1954/1954 [==============================] - 8s 4ms/step - loss: 0.1737 - f1: 0.7974\n",
      "Epoch 20/20\n",
      "1954/1954 [==============================] - 8s 4ms/step - loss: 0.1700 - f1: 0.8027\n"
     ]
    },
    {
     "data": {
      "text/plain": [
       "<tensorflow.python.keras.callbacks.History at 0x7f7ecb76f7b8>"
      ]
     },
     "execution_count": 31,
     "metadata": {
      "tags": []
     },
     "output_type": "execute_result"
    }
   ],
   "source": [
    "cnn.fit(X_train, Y_train, batch_size=32, epochs=20)"
   ]
  },
  {
   "cell_type": "markdown",
   "metadata": {
    "id": "o1yw3hPHJlQ7"
   },
   "source": [
    "#### Visualizing model performance"
   ]
  },
  {
   "cell_type": "code",
   "execution_count": 32,
   "metadata": {
    "colab": {
     "base_uri": "https://localhost:8080/",
     "height": 241
    },
    "id": "Ubxliu1bHkpA",
    "outputId": "8a28d8d2-9bfe-48cb-d8cc-f0d2dde28e69"
   },
   "outputs": [
    {
     "data": {
      "image/png": "[encoded data removed]",
      "text/plain": [
       "<Figure size 1440x216 with 2 Axes>"
      ]
     },
     "metadata": {
      "needs_background": "light",
      "tags": []
     },
     "output_type": "display_data"
    }
   ],
   "source": [
    "fig, ax = plt.subplots(1, 2, figsize=(20, 3))\r\n",
    "ax = ax.ravel()\r\n",
    "\r\n",
    "for i, metric in enumerate([\"f1\", \"loss\"]):\r\n",
    "    ax[i].plot(cnn.history.history[metric])\r\n",
    "    ax[i].set_title(\"Model {}\".format(metric))\r\n",
    "    ax[i].set_xlabel(\"epochs\")\r\n",
    "    ax[i].set_ylabel(metric)"
   ]
  },
  {
   "cell_type": "markdown",
   "metadata": {
    "id": "xRAxrw0RycYR"
   },
   "source": [
    "#### Save weights "
   ]
  },
  {
   "cell_type": "code",
   "execution_count": 33,
   "metadata": {
    "id": "ruYTK5l6ycYR"
   },
   "outputs": [],
   "source": [
    "cnn.save_weights(\"cnn.h5\")\r\n",
    "cnn.load_weights(/cnn.h5\")"
   ]
  },
  {
   "cell_type": "markdown",
   "metadata": {
    "id": "5dTtlWvKK5wv"
   },
   "source": [
    "# create submission"
   ]
  },
  {
   "cell_type": "markdown",
   "metadata": {
    "id": "Y0DzykT6ycYT"
   },
   "source": [
    "### create prediction on X_test and save pictures"
   ]
  },
  {
   "cell_type": "code",
   "execution_count": 37,
   "metadata": {
    "id": "Fx9cYI2nycYT"
   },
   "outputs": [],
   "source": [
    "image_filenames = []\n",
    "for i in test_indices:\n",
    "    image_filenames.append('test/images/Image_' + '%.3d' % i + '.png')\n",
    "    \n",
    "images_test = [np.pad(mpimg.imread(image_filename), ((pad,pad),(pad,pad),(0,0)), 'constant') \n",
    "               for image_filename in image_filenames]\n",
    "\n",
    "# get prediction from saved weights\n",
    "for i in test_indices2:\n",
    "    X_test = np.asarray(patch_set_3d(images_test[i], patch_size, patch_size, pad))\n",
    "    img_array = get_prediction_pic(X_test)\n",
    "    save_img('prediction/result_' + '%.3d' % (i + 1) + '.png', img_array)\n"
   ]
  },
  {
   "cell_type": "markdown",
   "metadata": {
    "id": "J-P_qu79ycYT"
   },
   "source": [
    "### generate submissoin"
   ]
  },
  {
   "cell_type": "code",
   "execution_count": 36,
   "metadata": {
    "id": "rcL24Q6dycYT"
   },
   "outputs": [],
   "source": [
    "submission_filename = 'submission.csv'\n",
    "image_filenames = []\n",
    "for i in test_indices:\n",
    "    image_filename = 'prediction/result_' + '%.3d' % i + '.png'\n",
    "    image_filenames.append(image_filename)\n",
    "    \n",
    "masks_to_submission(submission_filename, *image_filenames)"
   ]
  }
 ],
 "metadata": {
  "accelerator": "GPU",
  "anaconda-cloud": {},
  "colab": {
   "collapsed_sections": [],
   "name": "convolutional_network-1216.ipynb",
   "provenance": [],
   "toc_visible": true
  },
  "kernelspec": {
   "display_name": "Python 3",
   "language": "python",
   "name": "python3"
  },
  "language_info": {
   "codemirror_mode": {
    "name": "ipython",
    "version": 3
   },
   "file_extension": ".py",
   "mimetype": "text/x-python",
   "name": "python",
   "nbconvert_exporter": "python",
   "pygments_lexer": "ipython3",
   "version": "3.6.9"
  }
 },
 "nbformat": 4,
 "nbformat_minor": 4
}
